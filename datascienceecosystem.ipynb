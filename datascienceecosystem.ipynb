{
  "metadata": {
    "kernelspec": {
      "name": "python",
      "display_name": "Python (Pyodide)",
      "language": "python"
    },
    "language_info": {
      "codemirror_mode": {
        "name": "python",
        "version": 3
      },
      "file_extension": ".py",
      "mimetype": "text/x-python",
      "name": "python",
      "nbconvert_exporter": "python",
      "pygments_lexer": "ipython3",
      "version": "3.8"
    }
  },
  "nbformat_minor": 4,
  "nbformat": 4,
  "cells": [
    {
      "cell_type": "markdown",
      "source": "# data science tools and ecosystem",
      "metadata": {}
    },
    {
      "cell_type": "code",
      "source": "# in this notebook, data science tools and ecosystem are summarized",
      "metadata": {
        "trusted": true
      },
      "outputs": [],
      "execution_count": 2
    },
    {
      "cell_type": "markdown",
      "source": "# some of the popular languages that data scientists use are:\n1. Python\n2. R\n3. SQL",
      "metadata": {}
    },
    {
      "cell_type": "markdown",
      "source": "# some of the commonly used libraries used by data scientists include:\n1. pandas\n2. TensorFlow\n3. scikit-learn",
      "metadata": {}
    },
    {
      "cell_type": "markdown",
      "source": "| data science tools |\n| -------------------|\n| jupyter notebook   |\n| Rstudio            |\n| visual studio code |",
      "metadata": {}
    },
    {
      "cell_type": "markdown",
      "source": "### below are a few examples of evaluating arithmetic expressions in python.",
      "metadata": {}
    },
    {
      "cell_type": "markdown",
      "source": "# this is a simple arithmetic exppression to multiply then add integers\n(3 * 4) + 5",
      "metadata": {}
    },
    {
      "cell_type": "code",
      "source": "# this is a simple arithmetic expression to mutiply then add integers\n(3 * 4) + 5",
      "metadata": {
        "trusted": true
      },
      "outputs": [
        {
          "execution_count": 5,
          "output_type": "execute_result",
          "data": {
            "text/plain": "17"
          },
          "metadata": {}
        }
      ],
      "execution_count": 5
    },
    {
      "cell_type": "code",
      "source": "# this will convert 200 minutes to hours by dividing by 60\n200 / 60",
      "metadata": {
        "trusted": true
      },
      "outputs": [
        {
          "execution_count": 6,
          "output_type": "execute_result",
          "data": {
            "text/plain": "3.3333333333333335"
          },
          "metadata": {}
        }
      ],
      "execution_count": 6
    },
    {
      "cell_type": "markdown",
      "source": "**objectives:**\n- list popular languages for data science.\n- describe commonly used data science tools.\n- explain key concepts of version control.\n- showcase basic python code examples.\n- domonstrate how to create visoulizations.",
      "metadata": {}
    },
    {
      "cell_type": "markdown",
      "source": "## Auther\nNahid",
      "metadata": {}
    },
    {
      "cell_type": "code",
      "source": "",
      "metadata": {
        "trusted": true
      },
      "outputs": [],
      "execution_count": null
    }
  ]
}